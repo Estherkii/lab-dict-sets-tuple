{
 "cells": [
  {
   "cell_type": "markdown",
   "metadata": {},
   "source": [
    "## Challenge 2: Sets\n",
    "\n",
    "There are a lot to learn about Python Sets and the information presented in the lesson is limited due to its length. To learn Python Sets in depth you are strongly encouraged to review the W3Schools tutorial on [Python Sets Examples and Methods](https://www.w3schools.com/python/python_sets.asp) before you work on this lab. Some difficult questions in this lab have their solutions in the W3Schools tutorial.\n",
    "\n",
    "#### First, import the Python `random` library."
   ]
  },
  {
   "cell_type": "code",
   "execution_count": 2,
   "metadata": {},
   "outputs": [],
   "source": [
    "import random"
   ]
  },
  {
   "cell_type": "markdown",
   "metadata": {},
   "source": [
    "⚠️ Did you get: module not found? Try, in a cell: <br>\n",
    "`!pip install random`<br>\n",
    "`import random`"
   ]
  },
  {
   "cell_type": "markdown",
   "metadata": {},
   "source": [
    "#### In the cell below, create a list named `sample_list_1` with 80 random values. \n",
    "\n",
    "Requirements:\n",
    "\n",
    "* Each value is an integer falling between 0 and 100.\n",
    "* Each value in the list is unique.\n",
    "\n",
    "Print `sample_list_1` to review its values\n",
    "\n",
    "*Hint: use `random.sample` ([reference](https://docs.python.org/3/library/random.html#random.sample)).*"
   ]
  },
  {
   "cell_type": "code",
   "execution_count": 8,
   "metadata": {},
   "outputs": [
    {
     "name": "stdout",
     "output_type": "stream",
     "text": [
      "[15.916644426710391, 78.94881937576783, 40.24477755723228, 34.14921518490173, 97.18007088115624, 85.50752756824687, 16.68730704672545, 30.618026818214616, 12.126654837790873, 37.2679714475359, 32.03629919498058, 53.187861654687715, 92.09370678987545, 12.481777397392024, 47.04517794525027, 81.80945487818069, 96.27038803031687, 72.53111309030287, 79.61880449686633, 73.28361121480732, 95.7909198995813, 82.53715729561554, 39.38819320499882, 23.342008223947673, 0.8383571856863892, 44.37676065758303, 51.17888640339291, 46.74727106342924, 24.53640775487438, 89.33398730501085, 81.93688380190332, 28.23592604298304, 34.18736279300535, 73.4439474392637, 53.074131156745366, 25.03375630262684, 41.23862412361197, 89.68160475447522, 77.23938435227859, 8.808652851836541, 63.38258498534428, 26.586171790889722, 50.7603135853296, 73.47231256181708, 87.29671767823893, 75.74163881528293, 18.862465302377117, 58.02653926183093, 16.244707935313485, 77.98253520171474, 44.22195361329242, 46.358608299737845, 63.990061460083304, 32.63299289743994, 23.34862027079415, 21.499452455863256, 86.15252155802084, 62.56598245210338, 58.95386924514021, 22.991164290777267, 34.7346410726613, 51.71508293499969, 66.55885224253376, 7.582864682545932, 0.47253432057959843, 93.69885799443958, 20.835210788722247, 54.984203571312406, 68.46171052251607, 36.814622495619496, 71.36419500412565, 6.716642885024305, 76.73635231415123, 47.06595040761169, 59.44605325786934, 92.3353267216173, 15.994156058594955, 73.90455783123426, 20.37348171231169, 70.9981307104103, 46.62028529972052]\n"
     ]
    }
   ],
   "source": [
    "# In the cell below, create a list named sample_list_1 with 80 random values.\n",
    "# Requirements:\n",
    "# Each value is an integer falling between 0 and 100.\n",
    "min_value = 0\n",
    "max_value = 100\n",
    "\n",
    "# Create a list with 80 random values, each value must be unique.\n",
    "sample_list_1 = [random.uniform(min_value, max_value) for _ in range(80)]\n",
    "\n",
    "#each value must be unique\n",
    "if new_value not in sample_list_1:\n",
    "        sample_list_1.append(new_value)\n",
    "\n",
    "# Print the list\n",
    "print(sample_list_1)\n"
   ]
  },
  {
   "cell_type": "markdown",
   "metadata": {},
   "source": [
    "#### Convert `sample_list_1` to a set called `set1`. Print the length of the set. Is its length still 80?"
   ]
  },
  {
   "cell_type": "code",
   "execution_count": 40,
   "metadata": {},
   "outputs": [
    {
     "name": "stdout",
     "output_type": "stream",
     "text": [
      "Length of set1: 81\n"
     ]
    }
   ],
   "source": [
    "set1 = set(sample_list_1)\n",
    "\n",
    "print(\"Length of set1:\", len(set1))\n",
    "\n",
    "# No, it is 81"
   ]
  },
  {
   "cell_type": "markdown",
   "metadata": {},
   "source": [
    "#### Create another list named `sample_list_2` with 80 random values.\n",
    "\n",
    "Requirements:\n",
    "\n",
    "* Each value is an integer falling between 0 and 100.\n",
    "* The values in the list don't have to be unique.\n",
    "\n",
    "*Hint: Use a FOR loop.*"
   ]
  },
  {
   "cell_type": "code",
   "execution_count": 14,
   "metadata": {},
   "outputs": [
    {
     "name": "stdout",
     "output_type": "stream",
     "text": [
      "[68, 24, 55, 67, 62, 53, 38, 72, 18, 12, 33, 17, 38, 12, 77, 7, 56, 14, 17, 80, 57, 19, 44, 53, 21, 72, 69, 23, 32, 71, 27, 18, 43, 57, 69, 63, 9, 27, 15, 28, 83, 86, 92, 22, 78, 41, 65, 33, 4, 13, 80, 81, 32, 18, 31, 96, 95, 94, 64, 34, 21, 10, 45, 45, 33, 32, 37, 96, 2, 55, 56, 36, 68, 49, 20, 29, 14, 8, 42, 89]\n"
     ]
    }
   ],
   "source": [
    "import random\n",
    "\n",
    "# Create another list named sample_list_2 with 80 random values.\n",
    "# Requirements:\n",
    "\n",
    "#Each value is an integer falling between 0 and 100.\n",
    "min_value = 0\n",
    "max_value = 100\n",
    "\n",
    "sample_list_2 = []\n",
    "\n",
    "for _ in range(80):\n",
    "    random_integer = random.randint(min_value, max_value)\n",
    "    sample_list_2.append(random_integer)\n",
    "\n",
    "print(sample_list_2)"
   ]
  },
  {
   "cell_type": "markdown",
   "metadata": {},
   "source": [
    "#### Convert `sample_list_2` to a set called `set2`. Print the length of the set. Is its length still 80?"
   ]
  },
  {
   "cell_type": "code",
   "execution_count": 31,
   "metadata": {},
   "outputs": [
    {
     "name": "stdout",
     "output_type": "stream",
     "text": [
      "Length of set2: 58\n"
     ]
    }
   ],
   "source": [
    "set2 = set(sample_list_2)\n",
    "\n",
    "print(\"Length of set2:\", len(set2))\n",
    "\n",
    "# No, it is 58"
   ]
  },
  {
   "cell_type": "markdown",
   "metadata": {},
   "source": [
    "#### Identify the elements present in `set1` but not in `set2`. Assign the elements to a new set named `set3`."
   ]
  },
  {
   "cell_type": "code",
   "execution_count": 32,
   "metadata": {},
   "outputs": [
    {
     "name": "stdout",
     "output_type": "stream",
     "text": [
      "Elements in set1 named set3: {0.8383571856863892, 0.47253432057959843, 6.716642885024305, 7.582864682545932, 8.808652851836541, 12.126654837790873, 12.481777397392024, 15.916644426710391, 16.68730704672545, 16.244707935313485, 18.862465302377117, 15.994156058594955, 20.835210788722247, 21.499452455863256, 22.991164290777267, 23.342008223947673, 24.53640775487438, 25.03375630262684, 26.586171790889722, 23.34862027079415, 28.23592604298304, 20.37348171231169, 30.618026818214616, 32.03629919498058, 32.63299289743994, 34.14921518490173, 34.18736279300535, 34.7346410726613, 37.2679714475359, 36.814622495619496, 39.38819320499882, 40.24477755723228, 41.23862412361197, 44.37676065758303, 44.22195361329242, 46.74727106342924, 47.04517794525027, 46.358608299737845, 47.06595040761169, 50.7603135853296, 51.17888640339291, 51.71508293499969, 53.187861654687715, 53.074131156745366, 54.984203571312406, 58.02653926183093, 58.95386924514021, 59.44605325786934, 62.56598245210338, 63.38258498534428, 63.990061460083304, 66.55885224253376, 68.46171052251607, 70.9981307104103, 71.36419500412565, 72.53111309030287, 73.28361121480732, 73.4439474392637, 73.47231256181708, 75.74163881528293, 77.23938435227859, 78.94881937576783, 79.61880449686633, 77.98253520171474, 81.80945487818069, 82.53715729561554, 81.93688380190332, 76.73635231415123, 85.50752756824687, 86.15252155802084, 87.29671767823893, 89.33398730501085, 89.68160475447522, 92.09370678987545, 93.69885799443958, 92.3353267216173, 95.7909198995813, 96.27038803031687, 97.18007088115624, 46.62028529972052, 73.90455783123426}\n"
     ]
    }
   ],
   "source": [
    "set3 = set1 - set2\n",
    "\n",
    "print(\"Elements in set1 named set3:\", set3)"
   ]
  },
  {
   "cell_type": "markdown",
   "metadata": {},
   "source": [
    "#### Identify the elements present in `set2` but not in `set1`. Assign the elements to a new set named `set4`."
   ]
  },
  {
   "cell_type": "code",
   "execution_count": 33,
   "metadata": {},
   "outputs": [
    {
     "name": "stdout",
     "output_type": "stream",
     "text": [
      "Elements in set2 named set4: {2, 4, 7, 8, 9, 10, 12, 13, 14, 15, 17, 18, 19, 20, 21, 22, 23, 24, 27, 28, 29, 31, 32, 33, 34, 36, 37, 38, 41, 42, 43, 44, 45, 49, 53, 55, 56, 57, 62, 63, 64, 65, 67, 68, 69, 71, 72, 77, 78, 80, 81, 83, 86, 89, 92, 94, 95, 96}\n"
     ]
    }
   ],
   "source": [
    "set4 = set2 - set1\n",
    "\n",
    "print(\"Elements in set2 named set4:\", set4)"
   ]
  },
  {
   "cell_type": "markdown",
   "metadata": {},
   "source": [
    "#### Now Identify the elements shared between `set1` and `set2`. Assign the elements to a new set named `set5`."
   ]
  },
  {
   "cell_type": "code",
   "execution_count": 28,
   "metadata": {},
   "outputs": [
    {
     "name": "stdout",
     "output_type": "stream",
     "text": [
      "{7, 8, 12, 15, 18, 20, 21, 22, 23, 24, 28, 32, 34, 36, 37, 41, 44, 53, 62, 63, 68, 71, 72, 77, 78, 81, 86, 89, 92, 95, 96}\n"
     ]
    }
   ],
   "source": [
    "set1 = {0.8383571856863892, 0.47253432057959843, 6.716642885024305, 7.582864682545932, 8.808652851836541, 12.126654837790873, 12.481777397392024, 15.916644426710391, 16.68730704672545, 16.244707935313485, 18.862465302377117, 15.994156058594955, 20.835210788722247, 21.499452455863256, 22.991164290777267, 23.342008223947673, 24.53640775487438, 25.03375630262684, 26.586171790889722, 23.34862027079415, 28.23592604298304, 20.37348171231169, 30.618026818214616, 32.03629919498058, 32.63299289743994, 34.14921518490173, 34.18736279300535, 34.7346410726613, 37.2679714475359, 36.814622495619496, 39.38819320499882, 40.24477755723228, 41.23862412361197, 44.37676065758303, 44.22195361329242, 46.74727106342924, 47.04517794525027, 46.358608299737845, 47.06595040761169, 50.7603135853296, 51.17888640339291, 51.71508293499969, 53.187861654687715, 53.074131156745366, 54.984203571312406, 58.02653926183093, 58.95386924514021, 59.44605325786934, 62.56598245210338, 63.38258498534428, 63.990061460083304, 66.55885224253376, 68.46171052251607, 70.9981307104103, 71.36419500412565, 72.53111309030287, 73.28361121480732, 73.4439474392637, 73.47231256181708, 75.74163881528293, 77.23938435227859, 78.94881937576783, 79.61880449686633, 77.98253520171474, 81.80945487818069, 82.53715729561554, 81.93688380190332, 76.73635231415123, 85.50752756824687, 86.15252155802084, 87.29671767823893, 89.33398730501085, 89.68160475447522, 92.09370678987545, 93.69885799443958, 92.3353267216173, 95.7909198995813, 96.27038803031687, 97.18007088115624, 46.62028529972052, 73.90455783123426}\n",
    "set2 = {2, 4, 7, 8, 9, 10, 12, 13, 14, 15, 17, 18, 19, 20, 21, 22, 23, 24, 27, 28, 29, 31, 32, 33, 34, 36, 37, 38, 41, 42, 43, 44, 45, 49, 53, 55, 56, 57, 62, 63, 64, 65, 67, 68, 69, 71, 72, 77, 78, 80, 81, 83, 86, 89, 92, 94, 95, 96}\n",
    "\n",
    "set5 = {int(element) for element in set1} & set2\n",
    "\n",
    "print(set5)"
   ]
  },
  {
   "cell_type": "markdown",
   "metadata": {},
   "source": [
    "#### What is the relationship among the following values:\n",
    "\n",
    "* len(set1)\n",
    "* len(set2)\n",
    "* len(set3)\n",
    "* len(set4)\n",
    "* len(set5)\n",
    "\n",
    "Use a math formula to represent that relationship. Test your formula with Python code. Eg.: \n",
    "\n",
    "- my age is 30\n",
    "- my son is 10\n",
    "- my dad's twice my age\n",
    "- my grandmother is three times my age minus my son's_age\n",
    "\n",
    "\n",
    "A formula relating all these values would be:\n",
    "\n",
    "`my_grandmother = my_age + my_dad's_age - my_sons_age`\n",
    "\n",
    "Does this evaluate to True or to False?"
   ]
  },
  {
   "cell_type": "code",
   "execution_count": 44,
   "metadata": {},
   "outputs": [
    {
     "name": "stdout",
     "output_type": "stream",
     "text": [
      "Length of set1: 81\n",
      "Length of set2: 58\n",
      "Length of set3: 23\n",
      "Length of set4: 58\n",
      "Length of set5: -58\n"
     ]
    }
   ],
   "source": [
    "# What is the relationship among the following values: len(set1) len(set2) len(set3) len(set4) len(set5)\n",
    "# I think that the length of set1 is equal to the sum of the lengths set3, set4, and set5, minus the length of set2\n",
    "\n",
    "len_set1 = len(set1)\n",
    "len_set2 = len(set2)\n",
    "len_set3 = len(set1) - len(set4 | set5)\n",
    "len_set4 = len(set4)\n",
    "len_set5 = len(set1) - len(set2) - len(set3)\n",
    "\n",
    "print(\"Length of set1:\", len_set1)\n",
    "print(\"Length of set2:\", len_set2)\n",
    "print(\"Length of set3:\", len_set3)\n",
    "print(\"Length of set4:\", len_set4)\n",
    "print(\"Length of set5:\", len_set5)\n"
   ]
  },
  {
   "cell_type": "markdown",
   "metadata": {},
   "source": [
    "#### Create an empty set called `set6`."
   ]
  },
  {
   "cell_type": "code",
   "execution_count": 47,
   "metadata": {},
   "outputs": [],
   "source": [
    "set6 = set()"
   ]
  },
  {
   "cell_type": "markdown",
   "metadata": {},
   "source": [
    "#### Add `set3` and `set5` to `set6` using the Python Set `update` method."
   ]
  },
  {
   "cell_type": "code",
   "execution_count": 59,
   "metadata": {},
   "outputs": [
    {
     "name": "stdout",
     "output_type": "stream",
     "text": [
      "{0.8383571856863892, 0.47253432057959843, 6.716642885024305, 7.582864682545932, 8.808652851836541, 7, 8, 12.126654837790873, 12.481777397392024, 12, 15.916644426710391, 16.68730704672545, 16.244707935313485, 18.862465302377117, 15.994156058594955, 20.835210788722247, 21.499452455863256, 22.991164290777267, 23.342008223947673, 24.53640775487438, 25.03375630262684, 26.586171790889722, 23.34862027079415, 28.23592604298304, 20.37348171231169, 30.618026818214616, 22, 32.03629919498058, 32.63299289743994, 34.14921518490173, 34.18736279300535, 34.7346410726613, 37.2679714475359, 36.814622495619496, 39.38819320499882, 40.24477755723228, 41.23862412361197, 34, 36, 44.37676065758303, 44.22195361329242, 46.74727106342924, 47.04517794525027, 46.358608299737845, 47.06595040761169, 50.7603135853296, 51.17888640339291, 51.71508293499969, 53.187861654687715, 53.074131156745366, 54.984203571312406, 53, 58.02653926183093, 58.95386924514021, 59.44605325786934, 62.56598245210338, 63.38258498534428, 63.990061460083304, 62, 66.55885224253376, 63, 68.46171052251607, 68, 70.9981307104103, 71.36419500412565, 72.53111309030287, 73.28361121480732, 73.4439474392637, 73.47231256181708, 75.74163881528293, 77.23938435227859, 78.94881937576783, 79.61880449686633, 77.98253520171474, 81.80945487818069, 82.53715729561554, 81.93688380190332, 76.73635231415123, 85.50752756824687, 86.15252155802084, 87.29671767823893, 81, 89.33398730501085, 89.68160475447522, 18, 92.09370678987545, 93.69885799443958, 92.3353267216173, 95.7909198995813, 96.27038803031687, 97.18007088115624, 89, 92, 95, 20, 96, 21, 23, 24, 28, 32, 37, 41, 44, 46.62028529972052, 71, 72, 73.90455783123426, 15, 77, 78, 86}\n"
     ]
    }
   ],
   "source": [
    "set6.update(set3)\n",
    "set6.update(set5)\n",
    "\n",
    "print(set6)"
   ]
  },
  {
   "cell_type": "markdown",
   "metadata": {},
   "source": [
    "#### Check if `set1` and `set6` are equal."
   ]
  },
  {
   "cell_type": "code",
   "execution_count": 60,
   "metadata": {},
   "outputs": [
    {
     "name": "stdout",
     "output_type": "stream",
     "text": [
      "set1 and set6 are not equal\n"
     ]
    }
   ],
   "source": [
    "if set1 == set6:\n",
    "    print(\"set1 and set6 are equal\")\n",
    "else:\n",
    "    print(\"set1 and set6 are not equal\")"
   ]
  },
  {
   "cell_type": "markdown",
   "metadata": {},
   "source": [
    "#### Check if `set1` contains `set2` using the Python Set `issubset` method. Then check if `set1` contains `set3`.*"
   ]
  },
  {
   "cell_type": "code",
   "execution_count": 63,
   "metadata": {},
   "outputs": [
    {
     "name": "stdout",
     "output_type": "stream",
     "text": [
      "set1 does not contain set2\n",
      "set1 contains set3\n"
     ]
    }
   ],
   "source": [
    "#Checking set1/set2\n",
    "if set2.issubset(set1):\n",
    "    print(\"set 1 contains set2\")\n",
    "else:\n",
    "    print(\"set1 does not contain set2\")\n",
    "\n",
    "#Checking set1/set3\n",
    "\n",
    "if set3.issubset(set1):\n",
    "    print(\"set1 contains set3\")\n",
    "else:\n",
    "    print(\"set3 does not contain set1\")"
   ]
  },
  {
   "cell_type": "markdown",
   "metadata": {},
   "source": [
    "#### Using the Python Set `union` method, aggregate `set3`, `set4`, and `set5`. Then aggregate `set1` and `set2`. \n",
    "\n",
    "#### Check if the aggregated values are equal."
   ]
  },
  {
   "cell_type": "code",
   "execution_count": 65,
   "metadata": {},
   "outputs": [
    {
     "name": "stdout",
     "output_type": "stream",
     "text": [
      "Sets are equal\n"
     ]
    }
   ],
   "source": [
    "# Aggregate set3, set4, and set5\n",
    "aggregated_set1 = set3.union(set4, set5)\n",
    "\n",
    "# Aggregate set1 and set2\n",
    "aggregated_set2 = set1.union(set2)\n",
    "\n",
    "#Are equal?\n",
    "if aggregated_set1 == aggregated_set2:\n",
    "    print(\"Sets are equal\")\n",
    "else:\n",
    "    print(\"Sets are not equal\")"
   ]
  },
  {
   "cell_type": "markdown",
   "metadata": {},
   "source": [
    "#### Using the `pop` method, remove the first element from `set1`."
   ]
  },
  {
   "cell_type": "code",
   "execution_count": 69,
   "metadata": {},
   "outputs": [
    {
     "name": "stdout",
     "output_type": "stream",
     "text": [
      "Removed first element: 7.582864682545932\n"
     ]
    }
   ],
   "source": [
    "if len(set1) > 0:\n",
    "    removed_element = set1.pop()\n",
    "    print(\"Removed first element:\", removed_element)"
   ]
  },
  {
   "cell_type": "markdown",
   "metadata": {},
   "source": [
    "#### Remove every element in the following list from `set1` if they are present in the set. Print the remaining elements.\n",
    "\n",
    "```\n",
    "list_to_remove = [1, 9, 11, 19, 21, 29, 31, 39, 41, 49, 51, 59, 61, 69, 71, 79, 81, 89, 91, 99]\n",
    "```"
   ]
  },
  {
   "cell_type": "code",
   "execution_count": 71,
   "metadata": {},
   "outputs": [
    {
     "name": "stdout",
     "output_type": "stream",
     "text": [
      "Remaining elements: {8.808652851836541, 12.126654837790873, 12.481777397392024, 15.916644426710391, 16.68730704672545, 16.244707935313485, 18.862465302377117, 15.994156058594955, 20.835210788722247, 21.499452455863256, 22.991164290777267, 23.342008223947673, 24.53640775487438, 25.03375630262684, 26.586171790889722, 23.34862027079415, 28.23592604298304, 20.37348171231169, 30.618026818214616, 32.03629919498058, 32.63299289743994, 34.14921518490173, 34.18736279300535, 34.7346410726613, 37.2679714475359, 36.814622495619496, 39.38819320499882, 40.24477755723228, 41.23862412361197, 44.37676065758303, 44.22195361329242, 46.74727106342924, 47.04517794525027, 46.358608299737845, 47.06595040761169, 50.7603135853296, 51.17888640339291, 51.71508293499969, 53.187861654687715, 53.074131156745366, 54.984203571312406, 58.02653926183093, 58.95386924514021, 59.44605325786934, 62.56598245210338, 63.38258498534428, 63.990061460083304, 66.55885224253376, 68.46171052251607, 70.9981307104103, 71.36419500412565, 72.53111309030287, 73.28361121480732, 73.4439474392637, 73.47231256181708, 75.74163881528293, 77.23938435227859, 78.94881937576783, 79.61880449686633, 77.98253520171474, 81.80945487818069, 82.53715729561554, 81.93688380190332, 76.73635231415123, 85.50752756824687, 86.15252155802084, 87.29671767823893, 89.33398730501085, 89.68160475447522, 92.09370678987545, 93.69885799443958, 92.3353267216173, 95.7909198995813, 96.27038803031687, 97.18007088115624, 46.62028529972052, 73.90455783123426}\n"
     ]
    }
   ],
   "source": [
    "list_to_remove = [1, 9, 11, 19, 21, 29, 31, 39, 41, 49, 51, 59, 61, 69, 71, 79, 81, 89, 91, 99]\n",
    "\n",
    "# Remove every element in the following list from set1 if they are present in the set\n",
    "for element in list_to_remove:\n",
    "    set1.discard(element)\n",
    "\n",
    "print(\"Remaining elements:\", set1)"
   ]
  }
 ],
 "metadata": {
  "kernelspec": {
   "display_name": "Python 3 (ipykernel)",
   "language": "python",
   "name": "python3"
  },
  "language_info": {
   "codemirror_mode": {
    "name": "ipython",
    "version": 3
   },
   "file_extension": ".py",
   "mimetype": "text/x-python",
   "name": "python",
   "nbconvert_exporter": "python",
   "pygments_lexer": "ipython3",
   "version": "3.10.9"
  },
  "nbTranslate": {
   "displayLangs": [
    "en",
    "es"
   ],
   "hotkey": "alt-a",
   "langInMainMenu": true,
   "sourceLang": "es",
   "targetLang": "en",
   "useGoogleTranslate": true
  },
  "toc": {
   "base_numbering": 1,
   "nav_menu": {},
   "number_sections": true,
   "sideBar": true,
   "skip_h1_title": false,
   "title_cell": "Table of Contents",
   "title_sidebar": "Contents",
   "toc_cell": false,
   "toc_position": {},
   "toc_section_display": true,
   "toc_window_display": false
  }
 },
 "nbformat": 4,
 "nbformat_minor": 2
}
